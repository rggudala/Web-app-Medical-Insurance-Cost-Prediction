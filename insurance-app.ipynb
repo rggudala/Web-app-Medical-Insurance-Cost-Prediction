{
 "cells": [
  {
   "cell_type": "code",
   "execution_count": 7,
   "id": "e03430db",
   "metadata": {},
   "outputs": [],
   "source": [
    "import streamlit as st"
   ]
  },
  {
   "cell_type": "code",
   "execution_count": 8,
   "id": "7f6d911c",
   "metadata": {},
   "outputs": [],
   "source": [
    "import pickle as pkl"
   ]
  },
  {
   "cell_type": "code",
   "execution_count": 13,
   "id": "ff61b5f3",
   "metadata": {},
   "outputs": [],
   "source": [
    "import pandas as pd"
   ]
  },
  {
   "cell_type": "code",
   "execution_count": 9,
   "id": "33aef5d1",
   "metadata": {},
   "outputs": [],
   "source": [
    "model=pkl.load(open('insurance_charges.p','rb'))"
   ]
  },
  {
   "cell_type": "code",
   "execution_count": 11,
   "id": "a3ea6e17",
   "metadata": {},
   "outputs": [
    {
     "data": {
      "text/plain": [
       "DeltaGenerator(_root_container=0, _provided_cursor=None, _parent=None, _block_type=None, _form_data=None)"
      ]
     },
     "execution_count": 11,
     "metadata": {},
     "output_type": "execute_result"
    }
   ],
   "source": [
    "st.title('---------- Medical Insurance Cost Prediction ---------')"
   ]
  },
  {
   "cell_type": "code",
   "execution_count": null,
   "id": "c9aed097",
   "metadata": {},
   "outputs": [],
   "source": [
    "df = pd.reads_csv()"
   ]
  },
  {
   "cell_type": "code",
   "execution_count": 12,
   "id": "73916a6d",
   "metadata": {},
   "outputs": [],
   "source": [
    "age = st.number_input('Age', min_value=1, max_value=100)\n",
    "sex = st.number_input('Sex', min_value=0, max_value=1)\n",
    "bmi = st.number_input('BMI', min_value=10, max_value=50)\n",
    "children = st.number_input('Children', min_value=0, max_value=5)\n",
    "smoker = st.number_input('Smoker', min_value=0, max_value=1)\n",
    "region_northeast = st.number_input('region_northeast', min_value=0, max_value=1)\n",
    "region_northwest = st.number_input('region_northwest', min_value=0, max_value=1)\n",
    "region_southeast = st.number_input('region_southeast', min_value=0, max_value=1)\n",
    "region_southwest = st.number_input('region_southwest', min_value=0, max_value=1)\n",
    "output=\"\"\n",
    "if st.button(\"Predict\"):\n",
    "    result = model.predict([[age,sex,bmi,children,smoker,region_northeast,\n",
    "                            region_northwest, region_southeast, region_southwest]])\n",
    "    st.success ('The output of the above is {}'.format(result))  "
   ]
  }
 ],
 "metadata": {
  "kernelspec": {
   "display_name": "Python 3 (ipykernel)",
   "language": "python",
   "name": "python3"
  },
  "language_info": {
   "codemirror_mode": {
    "name": "ipython",
    "version": 3
   },
   "file_extension": ".py",
   "mimetype": "text/x-python",
   "name": "python",
   "nbconvert_exporter": "python",
   "pygments_lexer": "ipython3",
   "version": "3.8.4"
  }
 },
 "nbformat": 4,
 "nbformat_minor": 5
}
